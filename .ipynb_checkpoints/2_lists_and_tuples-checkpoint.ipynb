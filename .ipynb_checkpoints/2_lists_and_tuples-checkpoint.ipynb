{
 "cells": [
  {
   "cell_type": "markdown",
   "metadata": {},
   "source": [
    "## 2.3 Data Structure - List\n",
    "\n",
    "Lists are a lot like arrays in C. They are defined by square brackets and each item is separated by commas. A list can contain any ytpe of data (including another list...).\n",
    "\n",
    "Here are some examples."
   ]
  },
  {
   "cell_type": "code",
   "execution_count": 10,
   "metadata": {},
   "outputs": [
    {
     "name": "stdout",
     "output_type": "stream",
     "text": [
      "The contents of list1 are [1, 2, 3, 4].\n",
      "\n",
      "The contents of list2 are ['Hi', 1.0, 2, True].\n",
      "\n",
      "The contents of list3 are [[1, 2, 3, 4], ['Hi', 1.0, 2, True]].\n",
      "\n",
      "The first item in list1 is 1.\n",
      "\n",
      "The last item in list1 is 4.\n",
      "\n",
      "The second item in list1 is 2.\n",
      "\n",
      "The first item in list3 is [1, 2, 3, 4].\n",
      "\n",
      "The first item in second list in list3 is Hi.\n",
      "\n"
     ]
    }
   ],
   "source": [
    "list1 = [1, 2, 3, 4]\n",
    "print(f\"The contents of list1 are {list1}.\\n\")\n",
    "\n",
    "list2 = [\"Hi\", 1.0, 2, True]\n",
    "print(f\"The contents of list2 are {list2}.\\n\")\n",
    "\n",
    "list3 = [list1,list2]      # A list of lists\n",
    "print(f\"The contents of list3 are {list3}.\\n\")\n",
    "\n",
    "#To get the first item in a list\n",
    "print(f\"The first item in list1 is {list1[0]}.\\n\")\n",
    "\n",
    "#To get the last item in a list\n",
    "print(f\"The last item in list1 is {list1[-1]}.\\n\")                #Note the use of negative indices to access the \"end\" of the list\n",
    "\n",
    "#To get the second item in the list (index of 1)\n",
    "print(f\"The second item in list1 is {list1[1]}.\\n\")\n",
    "\n",
    "#With a list of lists you can access anything you need\n",
    "print(f\"The first item in list3 is {list3[0]}.\\n\")\n",
    "\n",
    "print(f\"The first item in the second list in list3 is {list3[1][0]}.\\n\")"
   ]
  },
  {
   "cell_type": "markdown",
   "metadata": {},
   "source": [
    "Much like the operations with strings, you can use the [start:end:step] format to slice a list.\n",
    "\n",
    "See below"
   ]
  },
  {
   "cell_type": "code",
   "execution_count": 12,
   "metadata": {},
   "outputs": [
    {
     "name": "stdout",
     "output_type": "stream",
     "text": [
      "The first and second items in list1 are [1, 2].\n",
      "\n",
      "The last two items in list1 are [3, 4].\n",
      "\n"
     ]
    }
   ],
   "source": [
    "print(f\"The first and second items in list1 are {list1[:2]}.\\n\")\n",
    "\n",
    "print(f\"The last two items in list1 are {list1[-2:]}.\\n\")          #Note the use of negative indices to access the \"end\" of the list\n",
    "\n",
    "\n"
   ]
  },
  {
   "cell_type": "code",
   "execution_count": null,
   "metadata": {},
   "outputs": [],
   "source": []
  }
 ],
 "metadata": {
  "kernelspec": {
   "display_name": "Python 3",
   "language": "python",
   "name": "python3"
  },
  "language_info": {
   "codemirror_mode": {
    "name": "ipython",
    "version": 3
   },
   "file_extension": ".py",
   "mimetype": "text/x-python",
   "name": "python",
   "nbconvert_exporter": "python",
   "pygments_lexer": "ipython3",
   "version": "3.7.4"
  }
 },
 "nbformat": 4,
 "nbformat_minor": 4
}
