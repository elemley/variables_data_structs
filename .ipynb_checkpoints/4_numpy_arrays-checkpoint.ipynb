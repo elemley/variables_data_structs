{
 "cells": [
  {
   "cell_type": "markdown",
   "metadata": {},
   "source": [
    "# Working with Arrays in *numpy*\n",
    "\n",
    "You will need to develop some ability to use arrays using numpy for the module on solving systems of linear equations. I may use the work *matrix* and *array* interchangably in this document, but we will only really use *numpy arrays* ... there are objects called matrices, but we won't need them for what we are doing. Below are examples.\n",
    "\n",
    "## Creating arrays \n",
    "### Using the *arrays* function\n"
   ]
  },
  {
   "cell_type": "code",
   "execution_count": 1,
   "metadata": {},
   "outputs": [
    {
     "name": "stdout",
     "output_type": "stream",
     "text": [
      "[0. 1. 2. 3.] 4\n"
     ]
    }
   ],
   "source": [
    "from math import *\n",
    "import numpy as np\n",
    "\n",
    "#this will create a 1-d array (vector)\n",
    "x = np.array([0.,1.,2.,3.])\n",
    "print(x, len(x))"
   ]
  },
  {
   "cell_type": "code",
   "execution_count": 3,
   "metadata": {},
   "outputs": [
    {
     "name": "stdout",
     "output_type": "stream",
     "text": [
      "[[0. 0. 0.]\n",
      " [0. 0. 0.]] 2 3\n"
     ]
    }
   ],
   "source": [
    "#make an array of zeros that is 2 rows by 3 columns\n",
    "y = np.zeros((2,3))\n",
    "print(y,len(y),len(y[0]))\n"
   ]
  },
  {
   "cell_type": "code",
   "execution_count": 4,
   "metadata": {},
   "outputs": [
    {
     "name": "stdout",
     "output_type": "stream",
     "text": [
      "[[6.92048704e-310 1.71391373e-316 0.00000000e+000 0.00000000e+000\n",
      "  2.78176672e-309 5.02034658e+175 1.45161799e-051 4.98868415e-037\n",
      "  1.10704314e+165 5.40406804e-066]\n",
      " [5.01163113e+217 5.49419094e-143 1.44297281e+214 4.76488706e+180\n",
      "  1.47763641e+248 1.16096346e-028 5.93386079e+276 9.30537467e+199\n",
      "  1.04760215e+165 4.74349848e-037]\n",
      " [3.44128975e+175 1.70388113e-051 4.25942960e-096 8.37170584e-144\n",
      "  5.88728850e-091 1.45243797e-047 5.15248119e-062 5.74020278e+180\n",
      "  8.37174974e-144 3.12296955e-310]]\n"
     ]
    }
   ],
   "source": [
    "#make an array that is empty (but you still have space reserved)\n",
    "z = np.empty([3,10])\n",
    "print(z)\n",
    "# be careful with this one... you have to fill the matrix yourself.\n",
    "# This will not automatically be filled with zeros!"
   ]
  },
  {
   "cell_type": "markdown",
   "metadata": {},
   "source": [
    "### Using the *arange* function"
   ]
  },
  {
   "cell_type": "code",
   "execution_count": 33,
   "metadata": {},
   "outputs": [
    {
     "name": "stdout",
     "output_type": "stream",
     "text": [
      "[0 1 2 3 4 5 6 7 8 9]\n",
      "[2. 3. 4. 5. 6. 7. 8. 9.]\n",
      "[2.  2.1 2.2 2.3 2.4 2.5 2.6 2.7 2.8 2.9]\n"
     ]
    }
   ],
   "source": [
    " #make an array that is equally spaced integers from 0-9\n",
    "z = np.arange(10)\n",
    "print(z)\n",
    "\n",
    "#make an array of floats from 2. to 9.\n",
    "yy = np.arange(2,10,dtype=float)\n",
    "print(yy)\n",
    "\n",
    "#make an array of floats with spacing other than 1...\n",
    "zz = np.arange(2.,3.,0.1)\n",
    "print(zz)\n"
   ]
  },
  {
   "cell_type": "markdown",
   "metadata": {},
   "source": [
    "### Using the *linspace* function"
   ]
  },
  {
   "cell_type": "code",
   "execution_count": 34,
   "metadata": {},
   "outputs": [
    {
     "name": "stdout",
     "output_type": "stream",
     "text": [
      "[2.         2.15789474 2.31578947 2.47368421 2.63157895 2.78947368\n",
      " 2.94736842 3.10526316 3.26315789 3.42105263 3.57894737 3.73684211\n",
      " 3.89473684 4.05263158 4.21052632 4.36842105 4.52631579 4.68421053\n",
      " 4.84210526 5.        ]\n"
     ]
    }
   ],
   "source": [
    "#make an array with a specified number of points in a range\n",
    "yyy = np.linspace(2.,5.,20)\n",
    "print(yyy)\n"
   ]
  },
  {
   "cell_type": "markdown",
   "metadata": {},
   "source": [
    "### Using the *ones* function"
   ]
  },
  {
   "cell_type": "code",
   "execution_count": 35,
   "metadata": {},
   "outputs": [
    {
     "name": "stdout",
     "output_type": "stream",
     "text": [
      "[[1. 1. 1.]\n",
      " [1. 1. 1.]]\n",
      "[[1. 1. 1.]\n",
      " [1. 1. 1.]]\n",
      "[[1 1 1]\n",
      " [1 1 1]]\n"
     ]
    }
   ],
   "source": [
    "#make an array of ones\n",
    "yyyy = np.ones((2,3),dtype=float) #note specification of the data type.\n",
    "print(yyyy)\n",
    "\n",
    "yyyy = np.ones((2,3))\n",
    "print(yyyy)\n",
    "\n",
    "yyyy = np.ones((2,3),dtype=int)\n",
    "print(yyyy)\n",
    "\n"
   ]
  },
  {
   "cell_type": "markdown",
   "metadata": {},
   "source": [
    "### Making arrays from a list and *augmenting* an array"
   ]
  },
  {
   "cell_type": "code",
   "execution_count": 36,
   "metadata": {},
   "outputs": [
    {
     "name": "stdout",
     "output_type": "stream",
     "text": [
      "[[ 0.143  0.357  2.01 ]\n",
      " [-1.31   0.911  1.99 ]\n",
      " [11.2   -4.3   -0.605]]\n",
      "[-5.173 -5.458  4.415]\n",
      "[[ 0.143  0.357  2.01  -5.173]\n",
      " [-1.31   0.911  1.99  -5.458]\n",
      " [11.2   -4.3   -0.605  4.415]]\n",
      "3\n",
      "4\n"
     ]
    }
   ],
   "source": [
    "#Create a matrix - 'a'\n",
    "a_lst = [[0.143, 0.357, 2.01], [-1.31, 0.911, 1.99], [11.2, -4.30, -0.605]]  # this is a list of lists\n",
    "a = np.array(a_lst)  # this makes a_lst an 2D array with a maxtrix\n",
    "print(a)\n",
    "\n",
    "#Create a matrix - 'b'\n",
    "b_lst = [-5.173, -5.458, 4.415]\n",
    "b = np.array(b_lst)  # make the RHS vector\n",
    "print(b)\n",
    "\n",
    "#how to augment and get # of rows\n",
    "ab = np.c_[a, b]  # we now should have the augmented form - this is just a python numpy library function\n",
    "n = len(ab) # This will return the number of rows\n",
    "m = len(ab[0])\n",
    "print(ab)\n",
    "print(n)\n",
    "print(m)"
   ]
  },
  {
   "cell_type": "markdown",
   "metadata": {},
   "source": [
    "## Some Array/Matrix Operations\n",
    "### Scalar Product and Matrix Multiplication"
   ]
  },
  {
   "cell_type": "code",
   "execution_count": 37,
   "metadata": {},
   "outputs": [
    {
     "name": "stdout",
     "output_type": "stream",
     "text": [
      "[[  1.  -3.   1.]\n",
      " [  2.  -8.   8.]\n",
      " [ -6.   3. -15.]]\n",
      "29.959\n",
      "[[-11.203   2.745 -27.151]\n",
      " [-11.428   2.612 -23.872]\n",
      " [  6.23   -1.015 -14.125]]\n",
      "[[-11.203   2.745 -27.151]\n",
      " [-11.428   2.612 -23.872]\n",
      " [  6.23   -1.015 -14.125]]\n"
     ]
    }
   ],
   "source": [
    "#define matrix 'c'\n",
    "c_lst = [[1.0, -3.0, 1.0],[2.0, -8.0, 8.0],[-6.0, 3.0,-15.0]]   #this is a list of lists\n",
    "c = np.array(c_lst)\n",
    "print(c)\n",
    "\n",
    "d_lst = [4.0, -2.0,9.0]\n",
    "d = np.array(d_lst)  # make the RHS vector\n",
    "\n",
    "#Scalar Product (inner or dot product):\n",
    "e = np.dot(b,d)\n",
    "print(e)\n",
    "\n",
    "#Matrix Multiply\n",
    "f = np.matmul(a,c)\n",
    "print(f)\n",
    "\n",
    "#also the @ symbol works\n",
    "f=a @ c\n",
    "print(f)\n"
   ]
  },
  {
   "cell_type": "code",
   "execution_count": null,
   "metadata": {},
   "outputs": [],
   "source": []
  }
 ],
 "metadata": {
  "kernelspec": {
   "display_name": "Python 3",
   "language": "python",
   "name": "python3"
  },
  "language_info": {
   "codemirror_mode": {
    "name": "ipython",
    "version": 3
   },
   "file_extension": ".py",
   "mimetype": "text/x-python",
   "name": "python",
   "nbconvert_exporter": "python",
   "pygments_lexer": "ipython3",
   "version": "3.7.4"
  }
 },
 "nbformat": 4,
 "nbformat_minor": 4
}
