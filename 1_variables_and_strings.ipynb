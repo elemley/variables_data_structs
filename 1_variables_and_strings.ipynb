{
 "cells": [
  {
   "cell_type": "markdown",
   "metadata": {},
   "source": [
    "# Variables and Basic Data Structures - Chapter 2"
   ]
  },
  {
   "cell_type": "markdown",
   "metadata": {},
   "source": [
    "## 2.1 Variables and Assignment\n",
    "We have already introduced basic variables, and the concept is similar to what you have learned in other programming languages. One difference is how python will assume your data type.\n",
    "\n"
   ]
  },
  {
   "cell_type": "code",
   "execution_count": 6,
   "metadata": {},
   "outputs": [
    {
     "name": "stdout",
     "output_type": "stream",
     "text": [
      "Variable   Type     Data/Info\n",
      "-----------------------------\n",
      "a          int      1\n",
      "b          float    1.25e-05\n",
      "c          bool     True\n"
     ]
    }
   ],
   "source": [
    "#These are \"assignment statements\"\n",
    "a = 1\n",
    "b = 1.25e-5\n",
    "c = True\n",
    "\n",
    "#When you see a command with a percent in front... it's called a magic command and is available in iPython/jupyter\n",
    "%whos"
   ]
  },
  {
   "cell_type": "markdown",
   "metadata": {},
   "source": [
    "### Equals is not equals\n",
    "The *=* sign does not mean \"equals\" like in a math class...\n",
    "\n",
    "The statement *x=y* means: right this moment assign the expression *y* to the variable *x*.\n",
    "\n",
    "Mathematically the statement $\\large x = x + 1$ does not mean much... but in code, it means \"take the current value stored in the memory location designated by the python compiler for x and add 1 to it, then put that result back in the location in which x is stored\""
   ]
  },
  {
   "cell_type": "code",
   "execution_count": 9,
   "metadata": {},
   "outputs": [
    {
     "name": "stdout",
     "output_type": "stream",
     "text": [
      "1\n",
      "2\n",
      "3\n",
      "3\n"
     ]
    }
   ],
   "source": [
    "x = 1\n",
    "print(x)\n",
    "x = x+1           #value of x is replaced with x+1\n",
    "print(x)\n",
    "y = x + 1         #value of y is found as current value of x + 1\n",
    "print(y)\n",
    "x=5               #x is replaced with 5, but y was already set to x+1 when x was 2... so the y calculation is not repeated\n",
    "print(y)"
   ]
  },
  {
   "cell_type": "markdown",
   "metadata": {},
   "source": [
    "### Sometimes you need to get rid of a variable\n",
    "What you really want to do is disassociate the variable from a particular location in memory. You can use the *del* to do this."
   ]
  },
  {
   "cell_type": "code",
   "execution_count": 22,
   "metadata": {},
   "outputs": [
    {
     "name": "stdout",
     "output_type": "stream",
     "text": [
      "1.0 140041282481824\n",
      "The location 140041282481824 has the value 1.0 (and is of type <class 'float'>) even though the a variable has been deleted\n"
     ]
    }
   ],
   "source": [
    "a = 1.0\n",
    "a_address = id(a)\n",
    "print(a, a_address)                    #Note the id function returns the address in which a is stored\n",
    "del(a)\n",
    "#print(a)                              #This will throw an error\n",
    "\n",
    "#special fancy footwork to get what is stored in the memory address where a awas originally stored.\n",
    "import ctypes\n",
    "value_stored_in_location = ctypes.cast(a_address,ctypes.py_object).value\n",
    "print(f\"The location {a_address} has the value {value_stored_in_location} (and is of type {type(value_stored_in_location)}) even though the a variable has been deleted\")\n"
   ]
  },
  {
   "cell_type": "markdown",
   "metadata": {},
   "source": [
    "### What variable names are allowed?\n",
    "\n",
    "- alphanumeric characters and underscores\n",
    "- must start with a letter or an underscore (note numbers can be used elsewhere in the name)\n",
    "- cannot contain spaces\n",
    "- are case sensitve (x $\\neq$ X)\n"
   ]
  },
  {
   "cell_type": "markdown",
   "metadata": {},
   "source": [
    "## 2.2 Data Structure - String\n",
    "\n",
    "A string is a set of characters. Define it with single and double quotes.\n",
    "\n",
    "The length of various data structures in Python can be obtained with the *len* function. This is demonstrated for strings below."
   ]
  },
  {
   "cell_type": "code",
   "execution_count": 37,
   "metadata": {},
   "outputs": [
    {
     "name": "stdout",
     "output_type": "stream",
     "text": [
      "Python is cool!\n",
      "Variable a is of type: <class 'str'>\n",
      "The lengths of a, b, and c are 6,2, and 5, respectively\n",
      "\n"
     ]
    }
   ],
   "source": [
    "a = \"Python\"\n",
    "b = \"is\"\n",
    "c = \"cool!\"\n",
    "print(f\"{a} {b} {c}\")\n",
    "print(f\"Variable a is of type: {type(a)}\")\n",
    "\n",
    "#How to get the length of a string\n",
    "print(f\"The lengths of a, b, and c are {len(a)},{len(b)}, and {len(c)}, respectively\\n\")\n"
   ]
  },
  {
   "cell_type": "markdown",
   "metadata": {},
   "source": [
    "Much like in C, strings are really arrays of characters... so one can access a particular character in the string by it's location in the character array... Just like arrays in C, the index of the first array element is *0*. The index of the last element would then be *len(a) - 1*."
   ]
  },
  {
   "cell_type": "code",
   "execution_count": 61,
   "metadata": {},
   "outputs": [
    {
     "name": "stdout",
     "output_type": "stream",
     "text": [
      "Here is a string!\n",
      "01234567891111111\n",
      "          0123456\n",
      "\n",
      "Above I have numbered each character starting at zero\n",
      "\n",
      "a[0]=H \t a[1]=e \t a[len(a)-2]=g \t a[len(a)-1]=!\n",
      "a[1:6]=ere i\n",
      "a[0:2]=He\n",
      "a[2:10:2]=r sa\n",
      "a[:3]=Her \t a[5:]=is a string!\n",
      "a[::2]=Hr sasrn! \tThis prints every other char starting at first char\n",
      "a[1::2]=eei  tig \tThis prints every other char starting at second char\n"
     ]
    }
   ],
   "source": [
    "a = \"Here is a string!\"\n",
    "print(a)\n",
    "\n",
    "print(\"01234567891111111\")\n",
    "print(\"          0123456\")\n",
    "\n",
    "print(f\"\\nAbove I have numbered each character starting at zero\\n\")\n",
    "\n",
    "#Use square brackets to access array elements\n",
    "print(f\"a[0]={a[0]} \\t a[1]={a[1]} \\t a[len(a)-2]={a[len(a)-2]} \\t a[len(a)-1]={a[len(a)-1]}\")\n",
    "\n",
    "#You can get a portion of a string (or an array/list) using the [start:end] notation\n",
    "print(f\"a[1:6]={a[1:6]}\")        #This is called slicing\n",
    "\n",
    "#Note the end argument is non inclusive of the that number\n",
    "\n",
    "print(f\"a[0:2]={a[0:2]}\")\n",
    "\n",
    "#Just like C... the arrays/lists/etc in Python have a starting index of 0\n",
    "\n",
    "#More general version of slicing... [start:end:step]\n",
    "print(f\"a[2:10:2]={a[2:10:2]}\")\n",
    "\n",
    "#If you leave off on the arguments\n",
    "print(f\"a[:3]={a[:3]} \\t a[5:]={a[5:]}\")\n",
    "\n",
    "print(f\"a[::2]={a[::2]} \\tThis prints every other char starting at first char\")\n",
    "print(f\"a[1::2]={a[1::2]} \\tThis prints every other char starting at second char\")"
   ]
  },
  {
   "cell_type": "markdown",
   "metadata": {},
   "source": [
    "# Some more things about strings\n",
    "\n",
    "- You can define things as strings that are used for other operations...\n",
    "    - a = \"+\" This does not mean you can use the variable *a* for addition!\n",
    "    - a = python function names and *keywords* can be essentially redefined as variables... then they don't work the way they were meant to.\n",
    "- What if you need to embed a number into a string... use the *str* function to convert the number to a string\n",
    "    - *b = 1.56* to get the number as a string use *str(b)*\n",
    "- What if you need to use a *\"* or a *'* inside of a string...\n",
    "    - Use a backslash (\\) to do this. For example: c = 'don\\'t'\n",
    "    - Or if you need a single quote inside the string use a double quote to designate the string\n",
    "        - c = \"don't\"\n",
    "\n"
   ]
  },
  {
   "cell_type": "code",
   "execution_count": 66,
   "metadata": {},
   "outputs": [
    {
     "name": "stdout",
     "output_type": "stream",
     "text": [
      "1.56 <class 'float'>\n",
      "1.56 <class 'str'>\n",
      "don't don't\n"
     ]
    }
   ],
   "source": [
    "b = 1.56\n",
    "print(b, type(b))\n",
    "d = str(b)\n",
    "print(d, type(d))\n",
    "\n",
    "print(\"don't\", 'don\\'t')\n"
   ]
  },
  {
   "cell_type": "markdown",
   "metadata": {},
   "source": [
    "[Next - lists and tuples](2_lists_and_tuples.ipynb)"
   ]
  },
  {
   "cell_type": "code",
   "execution_count": null,
   "metadata": {},
   "outputs": [],
   "source": []
  }
 ],
 "metadata": {
  "kernelspec": {
   "display_name": "Python 3",
   "language": "python",
   "name": "python3"
  },
  "language_info": {
   "codemirror_mode": {
    "name": "ipython",
    "version": 3
   },
   "file_extension": ".py",
   "mimetype": "text/x-python",
   "name": "python",
   "nbconvert_exporter": "python",
   "pygments_lexer": "ipython3",
   "version": "3.7.4"
  }
 },
 "nbformat": 4,
 "nbformat_minor": 4
}
