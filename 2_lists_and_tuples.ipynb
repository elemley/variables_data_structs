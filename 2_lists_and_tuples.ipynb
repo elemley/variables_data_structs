{
 "cells": [
  {
   "cell_type": "markdown",
   "metadata": {},
   "source": [
    "## 2.3 Data Structure - List\n",
    "\n",
    "Lists are a lot like arrays in C. They are defined by square brackets and the items are separated by commas. A list can contain any ytpe of data (including another list...).\n",
    "\n",
    "Here are some examples."
   ]
  },
  {
   "cell_type": "code",
   "execution_count": 1,
   "metadata": {},
   "outputs": [
    {
     "name": "stdout",
     "output_type": "stream",
     "text": [
      "The contents of list1 are [1, 2, 3, 4].\n",
      "\n",
      "The contents of list2 are ['Hi', 1.0, 2, True].\n",
      "\n",
      "The contents of list3 are [[1, 2, 3, 4], ['Hi', 1.0, 2, True]].\n",
      "\n",
      "The first item in list1 is 1.\n",
      "\n",
      "The last item in list1 is 4.\n",
      "\n",
      "The second item in list1 is 2.\n",
      "\n",
      "The first item in list3 is [1, 2, 3, 4].\n",
      "\n",
      "The first item in the second list in list3 is Hi.\n",
      "\n"
     ]
    }
   ],
   "source": [
    "list1 = [1, 2, 3, 4]\n",
    "print(f\"The contents of list1 are {list1}.\\n\")\n",
    "\n",
    "list2 = [\"Hi\", 1.0, 2, True]\n",
    "print(f\"The contents of list2 are {list2}.\\n\")\n",
    "\n",
    "list3 = [list1,list2]      # A list of lists\n",
    "print(f\"The contents of list3 are {list3}.\\n\")\n",
    "\n",
    "#To get the first item in a list\n",
    "print(f\"The first item in list1 is {list1[0]}.\\n\")\n",
    "\n",
    "#To get the last item in a list\n",
    "print(f\"The last item in list1 is {list1[-1]}.\\n\")                #Note the use of negative indices to access the \"end\" of the list\n",
    "\n",
    "#To get the second item in the list (index of 1)\n",
    "print(f\"The second item in list1 is {list1[1]}.\\n\")\n",
    "\n",
    "#With a list of lists you can access anything you need\n",
    "print(f\"The first item in list3 is {list3[0]}.\\n\")\n",
    "\n",
    "print(f\"The first item in the second list in list3 is {list3[1][0]}.\\n\")"
   ]
  },
  {
   "cell_type": "markdown",
   "metadata": {},
   "source": [
    "Much like the operations with strings, you can use the [start:end:step] format to slice a list.\n",
    "\n",
    "See below"
   ]
  },
  {
   "cell_type": "code",
   "execution_count": 2,
   "metadata": {},
   "outputs": [
    {
     "name": "stdout",
     "output_type": "stream",
     "text": [
      "The first and second items in list1 are [1, 2].\n",
      "\n",
      "The last two items in list1 are [3, 4].\n",
      "\n",
      "The second through the fourth items in list2 are [1.0, 2, True].\n",
      "\n"
     ]
    }
   ],
   "source": [
    "print(f\"The first and second items in list1 are {list1[:2]}.\\n\")\n",
    "\n",
    "print(f\"The last two items in list1 are {list1[-2:]}.\\n\")          #Note the use of negative indices to access the \"end\" of the list\n",
    "\n",
    "print(f\"The second through the fourth items in list2 are {list2[1:4]}.\\n\")\n",
    "\n"
   ]
  },
  {
   "cell_type": "markdown",
   "metadata": {},
   "source": [
    "To find the length of lists uses the *len()* function.\n"
   ]
  },
  {
   "cell_type": "code",
   "execution_count": 3,
   "metadata": {},
   "outputs": [
    {
     "name": "stdout",
     "output_type": "stream",
     "text": [
      "The lengths of lists list1, list2, and list3 are 4, 4, and 2, respectively.\n",
      "\n",
      "The length of the first list in list3 is 4.\n",
      "\n",
      "Lists can be combined using the plus-sign... as list2+list1= ['Hi', 1.0, 2, True, 1, 2, 3, 4].\n",
      "\n"
     ]
    }
   ],
   "source": [
    "print(f\"The lengths of lists list1, list2, and list3 are {len(list1)}, {len(list2)}, and {len(list3)}, respectively.\\n\")\n",
    "\n",
    "print(f\"The length of the first list in list3 is {len(list3[0])}.\\n\")\n",
    "\n",
    "print(f\"Lists can be combined using the plus-sign... as list2+list1= {list2+list1}.\\n\")\n"
   ]
  },
  {
   "cell_type": "markdown",
   "metadata": {},
   "source": [
    "Some more operations/methods that can be used on lists:\n",
    "\n",
    "- Insert a new item at a given position: *list.insert(location,item)*\n",
    "- Append a new item to the end of the list: *list.append(item)*\n",
    "- Copy the list: *new_list = list.copy()*\n",
    "- To remove an element at a specified position: *list.pop(location)*\n",
    "- To reverse the list: *list.reverse()*\n",
    "\n",
    "See explanations about these methods here: https://www.w3schools.com/python/python_ref_list.asp.\n",
    "\n",
    "A small number of examples are below:"
   ]
  },
  {
   "cell_type": "code",
   "execution_count": 4,
   "metadata": {},
   "outputs": [
    {
     "name": "stdout",
     "output_type": "stream",
     "text": [
      "list2=['Hi', 1.0, 2, True], but after I insert a '3.141' in the third position.\n",
      "\n",
      "list2=['Hi', 1.0, 3.141, 2, True].\n",
      "\n",
      "After appending the word World to list2=['Hi', 1.0, 3.141, 2, True, 'World'].\n",
      "\n",
      "After popping item 1 list2=['Hi', 3.141, 2, True, 'World'].\n",
      "\n"
     ]
    }
   ],
   "source": [
    "print(f\"list2={list2}, but after I insert a '3.141' in the third position.\\n\")\n",
    "list2.insert(2,3.141)\n",
    "print(f\"list2={list2}.\\n\")\n",
    "\n",
    "list2.append(\"World\")\n",
    "print(f\"After appending the word World to list2={list2}.\\n\")\n",
    "\n",
    "list2.pop(1)\n",
    "print(f\"After popping item 1 list2={list2}.\\n\")"
   ]
  },
  {
   "cell_type": "markdown",
   "metadata": {},
   "source": [
    "## 2.4 Data Structure - Tuple\n",
    "\n",
    "Tuples are a little different than lists. They are not changeable after they are created. They are probably most like a *struct* in C. At least they are typically used in the same way. Tuples are defined with parentheses:\n",
    "\n",
    "*tuple1 = (1.2, 3.5, 5.6)*\n",
    "\n",
    "They are probably used most as ordered pairs:\n",
    "\n",
    "*tuple2 = (1.5, 6.7)*\n",
    "\n",
    "Or even better yet as each ordered pair holding an object and the number of that type of object.\n",
    "\n",
    "*tuple3 = (banana, 4) tuple4 = (orange, 1) tuple5=(apple, 5)*\n"
   ]
  },
  {
   "cell_type": "code",
   "execution_count": 5,
   "metadata": {},
   "outputs": [
    {
     "name": "stdout",
     "output_type": "stream",
     "text": [
      "tuple1 = (1.2, 3.5, 5.6) and has 3 elements\n",
      "The second element of tuple1 is 3.5.\n",
      "\n",
      "list4 is a list of tuples list4=[('banana', 4), ('orange', 1), ('apple', 5)].\n",
      "\n"
     ]
    }
   ],
   "source": [
    "tuple1 = (1.2, 3.5, 5.6)\n",
    "\n",
    "print(f\"tuple1 = {tuple1} and has {len(tuple1)} elements\")\n",
    "print(f\"The second element of tuple1 is {tuple1[1]}.\\n\")\n",
    "\n",
    "tuple3 = (\"banana\", 4)\n",
    "tuple4 = (\"orange\", 1)\n",
    "tuple5=(\"apple\", 5)\n",
    "\n",
    "list4 = [tuple3,tuple4,tuple5]\n",
    "\n",
    "print(f\"list4 is a list of tuples list4={list4}.\\n\")\n",
    "\n"
   ]
  },
  {
   "cell_type": "code",
   "execution_count": 6,
   "metadata": {},
   "outputs": [
    {
     "name": "stdout",
     "output_type": "stream",
     "text": [
      "item1=3.56\t item2=2.78\t item3=1.0\t item4=3.141.\n",
      "\n"
     ]
    }
   ],
   "source": [
    "#Unpacking a list\n",
    "\n",
    "list5 = [3.56, 2.78, 1.0, 3.141]\n",
    "item1,item2,item3,item4 = list5 #values get placed into each item on the LHS\n",
    "\n",
    "print(f\"item1={item1}\\t item2={item2}\\t item3={item3}\\t item4={item4}.\\n\")\n"
   ]
  },
  {
   "cell_type": "markdown",
   "metadata": {},
   "source": [
    "[Previous variables and strings](1_variables_and_strings.ipynb)\n",
    "\n",
    "[Next sets and dictionaries](3_sets_and_dictionaries.ipynb)\n"
   ]
  },
  {
   "cell_type": "code",
   "execution_count": null,
   "metadata": {},
   "outputs": [],
   "source": []
  }
 ],
 "metadata": {
  "kernelspec": {
   "display_name": "Python 3",
   "language": "python",
   "name": "python3"
  },
  "language_info": {
   "codemirror_mode": {
    "name": "ipython",
    "version": 3
   },
   "file_extension": ".py",
   "mimetype": "text/x-python",
   "name": "python",
   "nbconvert_exporter": "python",
   "pygments_lexer": "ipython3",
   "version": "3.7.4"
  }
 },
 "nbformat": 4,
 "nbformat_minor": 4
}
