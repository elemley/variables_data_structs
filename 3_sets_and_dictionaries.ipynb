{
 "cells": [
  {
   "cell_type": "markdown",
   "metadata": {},
   "source": [
    "## Data Structure - Set\n",
    "\n",
    "Sets store unordered items with no duplicate elements. Also operations like unions and intersections can be performed on them. You used the { } to create a set.\n"
   ]
  },
  {
   "cell_type": "code",
   "execution_count": 7,
   "metadata": {},
   "outputs": [
    {
     "name": "stdout",
     "output_type": "stream",
     "text": [
      "The union of {0, 2, 4, 6, 8} and {1, 3, 5, 7, 9} = {0, 1, 2, 3, 4, 5, 6, 7, 8, 9}\n",
      "The intersection of {0, 2, 4, 6, 8} and {1, 3, 5, 7, 9} = set()\n",
      "True/False {2, 4, 6} is a subset of {0, 2, 4, 6, 8}? True\n"
     ]
    }
   ],
   "source": [
    "set1 = {0,2,4,6,8}\n",
    "set2 = {1,3,5,7,9}\n",
    "\n",
    "set3 = set1.union(set2)\n",
    "print(f\"The union of {set1} and {set2} = {set3}\\n\")\n",
    "\n",
    "set4 = set1.intersection(set2)\n",
    "print(f\"The intersection of {set1} and {set2} = {set4}\\n\")\n",
    "\n",
    "set5 = {2,4,6}\n",
    "print(f\"True/False {set5} is a subset of {set1}? {set5.issubset(set1)}\\n\")\n"
   ]
  },
  {
   "cell_type": "markdown",
   "metadata": {},
   "source": [
    "## 2.6 Data Structure - Dictionary\n",
    "\n",
    "Dictionaries are similar to lists except rather than indices, *keys* are used. So a dictionary has various key-value pairs. Dictionary keys can be strings, numbers, or tuples.\n",
    "\n",
    "Defining a string uses a {}, but inside the {} each key-value pair is separated by a colon (:) with the key first and the value second."
   ]
  },
  {
   "cell_type": "code",
   "execution_count": 17,
   "metadata": {},
   "outputs": [
    {
     "name": "stdout",
     "output_type": "stream",
     "text": [
      "For {'engr3703': 22, 'engr3033': 19, 'engr1213': 45, 'engr2203': 15} the course engr3703 has 22 students enrolled.\n",
      "\n",
      "The keys for dict1 are dict_keys(['engr3703', 'engr3033', 'engr1213', 'engr2203']).\n",
      "\n",
      "The values for dict1 are dict_values([22, 19, 45, 15]).\n",
      "\n"
     ]
    }
   ],
   "source": [
    "dict1 = {\"engr3703\":22, \"engr3033\":19, \"engr1213\":45, \"engr2203\":15}\n",
    "#Assume the above are enrollments for various courses\n",
    "\n",
    "print(f\"For {dict1} the course engr3703 has {dict1['engr3703']} students enrolled.\\n\")\n",
    "#Note above --- when I specified the key engr3703, I had to place it in different quotes than entire string!\n",
    "\n",
    "print(f\"The keys for dict1 are {dict1.keys()}.\\n\")\n",
    "\n",
    "print(f\"The values for dict1 are {dict1.values()}.\\n\")"
   ]
  },
  {
   "cell_type": "markdown",
   "metadata": {},
   "source": [
    "Adding new key value pairs to an existing dictionary is done as:\n",
    "\n",
    "*dict[\"New Key\"] = value*\n",
    "\n"
   ]
  },
  {
   "cell_type": "code",
   "execution_count": 18,
   "metadata": {},
   "outputs": [
    {
     "name": "stdout",
     "output_type": "stream",
     "text": [
      "dict2= {'math2313': 36, 'math2323': 31}.\n",
      "\n"
     ]
    }
   ],
   "source": [
    "dict2 = {}            #This will be an empty dictionary\n",
    "dict2[\"math2313\"] = 36\n",
    "dict2[\"math2323\"] = 31\n",
    "print(f\"dict2= {dict2}.\\n\")"
   ]
  },
  {
   "cell_type": "markdown",
   "metadata": {},
   "source": [
    "A few more things you can do with dictionaries:"
   ]
  },
  {
   "cell_type": "code",
   "execution_count": 23,
   "metadata": {},
   "outputs": [
    {
     "name": "stdout",
     "output_type": "stream",
     "text": [
      "True/False - In the dictionary {'engr3703': 22, 'engr3033': 19, 'engr1213': 45, 'engr2203': 15} there is a key called engr3703? \n",
      "True.\n",
      "\n",
      "True/False - In the dictionary {'math2313': 36, 'math2323': 31} there is not a key called math2343? \n",
      "True.\n",
      "\n",
      "['engr3703', 'engr3033', 'engr1213', 'engr2203']\n"
     ]
    }
   ],
   "source": [
    "print(f\"True/False - In the dictionary {dict1} there is a key called engr3703? \\n{'engr3703' in dict1}.\\n\")\n",
    "\n",
    "print(f\"True/False - In the dictionary {dict2} there is not a key called math2343? \\n{'math2343' not in dict2}.\\n\")\n",
    "\n",
    "#One last function... the list function (does same thing as the keys method)\n",
    "\n",
    "print(list(dict1))"
   ]
  },
  {
   "cell_type": "markdown",
   "metadata": {},
   "source": [
    "[Previous lists and tuples](2_lists_and_tuples.ipynb)"
   ]
  },
  {
   "cell_type": "code",
   "execution_count": null,
   "metadata": {},
   "outputs": [],
   "source": []
  }
 ],
 "metadata": {
  "kernelspec": {
   "display_name": "Python 3",
   "language": "python",
   "name": "python3"
  },
  "language_info": {
   "codemirror_mode": {
    "name": "ipython",
    "version": 3
   },
   "file_extension": ".py",
   "mimetype": "text/x-python",
   "name": "python",
   "nbconvert_exporter": "python",
   "pygments_lexer": "ipython3",
   "version": "3.7.4"
  }
 },
 "nbformat": 4,
 "nbformat_minor": 4
}
